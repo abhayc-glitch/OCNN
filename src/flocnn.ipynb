{
 "cells": [
  {
   "cell_type": "markdown",
   "id": "5fed8c3f",
   "metadata": {},
   "source": [
    "The idea behind a CNN is to filter the images before inputing them so feutures within images would come forward and you can spot said feutures.\n",
    "\n",
    "A CNN that classfies images of flowers"
   ]
  },
  {
   "cell_type": "code",
   "execution_count": null,
   "id": "fd78454c",
   "metadata": {},
   "outputs": [],
   "source": []
  }
 ],
 "metadata": {
  "kernelspec": {
   "display_name": "Python 3.9 (tensorflow)",
   "language": "python",
   "name": "tensorflow"
  },
  "language_info": {
   "codemirror_mode": {
    "name": "ipython",
    "version": 3
   },
   "file_extension": ".py",
   "mimetype": "text/x-python",
   "name": "python",
   "nbconvert_exporter": "python",
   "pygments_lexer": "ipython3",
   "version": "3.9.12"
  }
 },
 "nbformat": 4,
 "nbformat_minor": 5
}
